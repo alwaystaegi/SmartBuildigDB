{
 "cells": [
  {
   "cell_type": "code",
   "execution_count": 4,
   "id": "05e81339",
   "metadata": {},
   "outputs": [
    {
     "name": "stdout",
     "output_type": "stream",
     "text": [
      "/$Recycle.Bin\n",
      "/$WinREAgent\n",
      "/bootmgr\n",
      "/BOOTNXT\n",
      "/Documents and Settings\n",
      "/DumpStack.log.tmp\n",
      "/hiberfil.sys\n",
      "/Intel\n",
      "/Maven\n",
      "/MSOCache\n",
      "/OneDriveTemp\n",
      "/pagefile.sys\n",
      "/PerfLogs\n",
      "/Program Files\n",
      "/Program Files (x86)\n",
      "/ProgramData\n",
      "/Python310\n",
      "/Recovery\n",
      "/swapfile.sys\n",
      "/System Volume Information\n",
      "/Temp\n",
      "/Users\n",
      "/Windows\n",
      "/XboxGames\n"
     ]
    }
   ],
   "source": [
    "\n",
    "import glob\n",
    "\n",
    "# get all files inside a specific folder\n",
    "dir_path = '/*'\n",
    "res = glob.glob(dir_path)\n",
    "for test in res:\n",
    "    print(test)"
   ]
  },
  {
   "cell_type": "code",
   "execution_count": null,
   "id": "e973fd39",
   "metadata": {},
   "outputs": [],
   "source": []
  }
 ],
 "metadata": {
  "kernelspec": {
   "display_name": "Python 3 (ipykernel)",
   "language": "python",
   "name": "python3"
  },
  "language_info": {
   "codemirror_mode": {
    "name": "ipython",
    "version": 3
   },
   "file_extension": ".py",
   "mimetype": "text/x-python",
   "name": "python",
   "nbconvert_exporter": "python",
   "pygments_lexer": "ipython3",
   "version": "3.9.13"
  }
 },
 "nbformat": 4,
 "nbformat_minor": 5
}
